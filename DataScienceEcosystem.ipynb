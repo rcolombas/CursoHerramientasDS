{
 "cells": [
  {
   "cell_type": "markdown",
   "id": "899b924d",
   "metadata": {},
   "source": [
    "# DataScienceEcosystem"
   ]
  },
  {
   "cell_type": "markdown",
   "id": "5f515fe1",
   "metadata": {},
   "source": [
    "<h2>In this notebook, Data Science Tools and Ecosystem are summarized.</h2>"
   ]
  },
  {
   "cell_type": "markdown",
   "id": "8ea25004",
   "metadata": {},
   "source": [
    "**Objetivos del curso**\n",
    "* Conocer lenguajes de los científicos de datos\n",
    "    * Python\n",
    "    * R\n",
    "* Conocer las herramientas de los científicos de datos\n",
    "    * Jupyter\n",
    "    * Rstudio\n",
    "    * Google Colab\n",
    "    * VS Code\n",
    "* Coger experiencia con esas herramientas"
   ]
  },
  {
   "cell_type": "markdown",
   "id": "283745fb",
   "metadata": {},
   "source": [
    "Some of the popular languages that Data Scientists use are:\n",
    "1. Python\n",
    "2. R\n",
    "3. C++"
   ]
  },
  {
   "cell_type": "markdown",
   "id": "ddbf931a",
   "metadata": {},
   "source": [
    "Some of the commonly used libraries used by Data Scientists include: \n",
    "    \n",
    "    * Scipy\n",
    "    * Pandas\n",
    "    * Numpy\n",
    "    * Matplotlib"
   ]
  },
  {
   "cell_type": "markdown",
   "id": "47a39bbc",
   "metadata": {},
   "source": [
    "| Herramientas |\n",
    "| ------------ |\n",
    "| Jupyter |\n",
    "| VS Code|\n",
    "| Google Colaboratory |"
   ]
  },
  {
   "cell_type": "markdown",
   "id": "9dce7622",
   "metadata": {},
   "source": [
    "### Below are a few examples of evaluating arithmetic expressions in Python."
   ]
  },
  {
   "cell_type": "code",
   "execution_count": 3,
   "id": "1cffd49d",
   "metadata": {},
   "outputs": [
    {
     "data": {
      "text/plain": [
       "529"
      ]
     },
     "execution_count": 3,
     "metadata": {},
     "output_type": "execute_result"
    }
   ],
   "source": [
    "# (3*4)+517\n",
    "(3*4)+517"
   ]
  },
  {
   "cell_type": "code",
   "execution_count": 4,
   "id": "74514f99",
   "metadata": {},
   "outputs": [
    {
     "data": {
      "text/plain": [
       "3"
      ]
     },
     "execution_count": 4,
     "metadata": {},
     "output_type": "execute_result"
    }
   ],
   "source": [
    "# Esto convertirá 200 minutos en horas buceando en 60.\n",
    "200 // 60"
   ]
  },
  {
   "cell_type": "markdown",
   "id": "a0c629e2",
   "metadata": {},
   "source": [
    "# Autor:\n",
    "## Ramón Colombás"
   ]
  },
  {
   "cell_type": "code",
   "execution_count": null,
   "id": "00258318",
   "metadata": {},
   "outputs": [],
   "source": []
  }
 ],
 "metadata": {
  "kernelspec": {
   "display_name": "Python 3",
   "language": "python",
   "name": "python3"
  },
  "language_info": {
   "codemirror_mode": {
    "name": "ipython",
    "version": 3
   },
   "file_extension": ".py",
   "mimetype": "text/x-python",
   "name": "python",
   "nbconvert_exporter": "python",
   "pygments_lexer": "ipython3",
   "version": "3.8.8"
  }
 },
 "nbformat": 4,
 "nbformat_minor": 5
}
